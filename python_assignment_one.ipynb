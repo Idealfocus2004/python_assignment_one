{
 "cells": [
  {
   "cell_type": "markdown",
   "id": "d571d9bb-eb7a-4a17-a2e4-2435df83debb",
   "metadata": {},
   "source": [
    "# Q1. A calculator to add inputs from a user:"
   ]
  },
  {
   "cell_type": "code",
   "execution_count": 1,
   "id": "ae676272-bfd4-4074-851f-2824018ae310",
   "metadata": {},
   "outputs": [],
   "source": [
    "# Taking input of the numbers"
   ]
  },
  {
   "cell_type": "code",
   "execution_count": 2,
   "id": "8862138e-cb70-4cca-8925-2fe56ddf8ce5",
   "metadata": {},
   "outputs": [
    {
     "name": "stdin",
     "output_type": "stream",
     "text": [
      "Please enter the first number:  9\n",
      "Please enter the second number:  9\n"
     ]
    },
    {
     "name": "stdout",
     "output_type": "stream",
     "text": [
      "You have 9 cookies + 9 cookies, that's a delicious total of 18 cookies!\n"
     ]
    }
   ],
   "source": [
    "num1 = int(input(\"Please enter the first number: \"))\n",
    "num2= int(input(\"Please enter the second number: \"))\n",
    "sum = num1 + num2;\n",
    "print(f\"You have {num1} cookies + {num2} cookies, that's a delicious total of {sum} cookies!\")"
   ]
  },
  {
   "cell_type": "markdown",
   "id": "10c06b6e-3bcf-481d-a881-cbc352dd6670",
   "metadata": {},
   "source": [
    "# Q2 Birthday Song"
   ]
  },
  {
   "cell_type": "code",
   "execution_count": null,
   "id": "1df27631-9341-430f-b280-ac8e9b771260",
   "metadata": {},
   "outputs": [],
   "source": [
    "# Taking input of the name"
   ]
  },
  {
   "cell_type": "code",
   "execution_count": 12,
   "id": "8840ddd9-fc09-4867-9b2e-7d83a94d336f",
   "metadata": {},
   "outputs": [
    {
     "name": "stdin",
     "output_type": "stream",
     "text": [
      "Please enter your name:  Festus\n"
     ]
    },
    {
     "name": "stdout",
     "output_type": "stream",
     "text": [
      "Happy birthday to  Festus\n",
      "\n",
      "Song: \n",
      "Happy birthday you, happy birthday you..\n",
      "Happy birthday Festus\n",
      "God bless you\n",
      "May you flourish like a palm tree\n",
      "Your are blessed and highly favoured\n",
      "May your day be filed with laughter and cake full of surprises\n",
      "Expect the Momo coming.\n",
      "\n"
     ]
    }
   ],
   "source": [
    "name =input(\"Please enter your name: \")\n",
    "print(\"Happy birthday to \",name, end=\"\\n\")\n",
    "print(f\"\"\"\n",
    "Song: \n",
    "Happy birthday you, happy birthday you..\n",
    "Happy birthday {name}\n",
    "God bless you\n",
    "May you flourish like a palm tree\n",
    "Your are blessed and highly favoured\n",
    "May your day be filed with laughter and cake full of surprises\n",
    "Expect the Momo coming.\n",
    "\"\"\")"
   ]
  },
  {
   "cell_type": "markdown",
   "id": "54a9a8c6-45c2-42f6-a977-44dbbe8f75ca",
   "metadata": {},
   "source": [
    "# Q3.Temperature Conversion"
   ]
  },
  {
   "cell_type": "code",
   "execution_count": 16,
   "id": "244dbfb7-73d4-4974-9694-04c0e9894ca9",
   "metadata": {},
   "outputs": [],
   "source": [
    "# Taking input of temperature in  Celsius"
   ]
  },
  {
   "cell_type": "code",
   "execution_count": 26,
   "id": "117ba391-70e9-40da-a638-dc65ff16dada",
   "metadata": {},
   "outputs": [
    {
     "name": "stdin",
     "output_type": "stream",
     "text": [
      "Enter the temperature in Celsius:  100\n"
     ]
    }
   ],
   "source": [
    "celsius =float(input(\"Enter the temperature in Celsius: \"))"
   ]
  },
  {
   "cell_type": "code",
   "execution_count": 18,
   "id": "509ce407-c2a4-4855-a9ce-8ca562f919ea",
   "metadata": {},
   "outputs": [],
   "source": [
    "# Convert Celsius to Fahrenheit"
   ]
  },
  {
   "cell_type": "code",
   "execution_count": 27,
   "id": "39a8ac40-5930-420e-aefd-b51903456cf4",
   "metadata": {},
   "outputs": [],
   "source": [
    "fahrenheit = (celsius * 9/5) + 32"
   ]
  },
  {
   "cell_type": "code",
   "execution_count": 29,
   "id": "44d6e76e-a8b4-4070-bd11-52d3394b5cbb",
   "metadata": {},
   "outputs": [
    {
     "name": "stdout",
     "output_type": "stream",
     "text": [
      "100.0  degrees Celsius is equal to  212.0  degrees Fahrenheit.\n"
     ]
    }
   ],
   "source": [
    "print(celsius,\" degrees Celsius is equal to \",fahrenheit,\" degrees Fahrenheit.\")"
   ]
  },
  {
   "cell_type": "markdown",
   "id": "60f5464d-37af-4435-971f-9c98e090ea36",
   "metadata": {},
   "source": [
    "# Q4. User name and age"
   ]
  },
  {
   "cell_type": "code",
   "execution_count": 30,
   "id": "cc407b96-8832-4ae4-9980-b721ed49bcd6",
   "metadata": {},
   "outputs": [],
   "source": [
    "# Take input of name and age"
   ]
  },
  {
   "cell_type": "code",
   "execution_count": 32,
   "id": "7ec5f81a-e137-4893-8358-7d0dcb18eb20",
   "metadata": {},
   "outputs": [
    {
     "name": "stdin",
     "output_type": "stream",
     "text": [
      "Enter your name  Hannah\n",
      "Enter your age:  13\n"
     ]
    },
    {
     "name": "stdout",
     "output_type": "stream",
     "text": [
      "Hello  Hannah  welcome! You seem like a fantastic person at  13  years old.\n"
     ]
    }
   ],
   "source": [
    "name =input(\"Enter your name \")\n",
    "age =input(\"Enter your age: \")\n",
    "print(\"Hello \",name,\" welcome! You seem like a fantastic person at \",age,\" years old.\")"
   ]
  },
  {
   "cell_type": "markdown",
   "id": "8728df8b-59eb-4fe4-a20b-4f11b7b627ca",
   "metadata": {},
   "source": [
    "# Q5.Price of an item"
   ]
  },
  {
   "cell_type": "code",
   "execution_count": 33,
   "id": "ff1d25ea-3767-4de9-8f7a-452a675ba66d",
   "metadata": {},
   "outputs": [],
   "source": [
    "# Take input of the price of an item"
   ]
  },
  {
   "cell_type": "code",
   "execution_count": 43,
   "id": "7d2f8db2-de45-4589-9472-7f179a7343f3",
   "metadata": {},
   "outputs": [
    {
     "name": "stdin",
     "output_type": "stream",
     "text": [
      "Enter the price of the item without tax:  90\n"
     ]
    },
    {
     "name": "stdout",
     "output_type": "stream",
     "text": [
      "With tax added at a rate of 7%, the final price is $96.30\n"
     ]
    }
   ],
   "source": [
    "price = float(input(\"Enter the price of the item without tax: \"))\n",
    "tax_rate = 0.07\n",
    "total = price+(price*tax_rate)\n",
    "print(f\"With tax added at a rate of 7%, the final price is ${total:,.2f}\")"
   ]
  },
  {
   "cell_type": "markdown",
   "id": "a62e80c0-a61c-486d-b5f7-45ada3197b96",
   "metadata": {},
   "source": [
    "# Q6. Ingredients to form a Portion"
   ]
  },
  {
   "cell_type": "code",
   "execution_count": 46,
   "id": "7645d1f3-a875-489b-9b52-e9b097bc004b",
   "metadata": {},
   "outputs": [],
   "source": [
    "# Take input of ingredients"
   ]
  },
  {
   "cell_type": "code",
   "execution_count": 57,
   "id": "572c7224-d4cd-41c3-b8df-aa9f13afd748",
   "metadata": {},
   "outputs": [
    {
     "name": "stdin",
     "output_type": "stream",
     "text": [
      "Enter the first ingredient:  oil\n",
      "Enter the second ingredient:  yam\n"
     ]
    },
    {
     "name": "stdout",
     "output_type": "stream",
     "text": [
      "Mixing oil and yam creates the Oil Yam Potion!\n"
     ]
    }
   ],
   "source": [
    "ingredientOne = input(\"Enter the first ingredient: \")\n",
    "ingredientTwo = input(\"Enter the second ingredient: \")\n",
    "\n",
    "potion_name = f\"Mixing {ingredientOne} and {ingredientTwo} creates the {ingredientOne.capitalize()} {ingredientTwo.capitalize()} Potion!\"\n",
    "print(potion_name)"
   ]
  },
  {
   "cell_type": "code",
   "execution_count": null,
   "id": "107c00f3-aecd-4ab8-b4b4-e9911b57d9c3",
   "metadata": {},
   "outputs": [],
   "source": []
  },
  {
   "cell_type": "code",
   "execution_count": null,
   "id": "40e0156b-fccc-41d4-9658-f4611fde36ee",
   "metadata": {},
   "outputs": [],
   "source": []
  }
 ],
 "metadata": {
  "kernelspec": {
   "display_name": "Python 3 (ipykernel)",
   "language": "python",
   "name": "python3"
  },
  "language_info": {
   "codemirror_mode": {
    "name": "ipython",
    "version": 3
   },
   "file_extension": ".py",
   "mimetype": "text/x-python",
   "name": "python",
   "nbconvert_exporter": "python",
   "pygments_lexer": "ipython3",
   "version": "3.10.9"
  }
 },
 "nbformat": 4,
 "nbformat_minor": 5
}
